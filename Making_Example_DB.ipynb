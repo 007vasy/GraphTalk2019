{
 "cells": [
  {
   "cell_type": "markdown",
   "metadata": {},
   "source": [
    "# Making an example NEO4J db for the talk"
   ]
  },
  {
   "cell_type": "code",
   "execution_count": 62,
   "metadata": {},
   "outputs": [],
   "source": [
    "import random"
   ]
  },
  {
   "cell_type": "markdown",
   "metadata": {},
   "source": [
    "## Creating the nodes data"
   ]
  },
  {
   "cell_type": "code",
   "execution_count": 63,
   "metadata": {},
   "outputs": [],
   "source": [
    "resource_codes = []\n",
    "for i in range(0,5000):\n",
    "    resource_codes.append(\"Res_\" + str(i))"
   ]
  },
  {
   "cell_type": "code",
   "execution_count": 64,
   "metadata": {},
   "outputs": [],
   "source": [
    "group_codes = []\n",
    "for i in range(0,25000):\n",
    "    group_codes.append(\"G_\" + str(i))"
   ]
  },
  {
   "cell_type": "code",
   "execution_count": 65,
   "metadata": {},
   "outputs": [],
   "source": [
    "person_codes = []\n",
    "for i in range(0,150000):\n",
    "    person_codes.append(\"P_\" + str(i))"
   ]
  },
  {
   "cell_type": "markdown",
   "metadata": {},
   "source": [
    "# Creating the edges randomly"
   ]
  },
  {
   "cell_type": "code",
   "execution_count": 66,
   "metadata": {},
   "outputs": [],
   "source": [
    "person_is_in_group = []\n",
    "\n",
    "\n",
    "# Assign every person to a group\n",
    "for person in person_codes:\n",
    "    person_is_in_group.append([person,random.choice(group_codes)])\n",
    "    \n",
    "# Assign a 50% of people to a random set of groups:\n",
    "\n",
    "for person in random.sample(person_codes, int(round(len(person_codes)/2))):\n",
    "    for extra_group in range(0,random.randint(1, 5)):\n",
    "        person_is_in_group.append([person,random.choice(group_codes)])\n",
    "    "
   ]
  },
  {
   "cell_type": "code",
   "execution_count": 67,
   "metadata": {},
   "outputs": [],
   "source": [
    "group_child_of_group = []\n",
    "\n",
    "for i in range(0, len(group_codes)):\n",
    "    group_child_of_group.append([random.choice(group_codes),random.choice(group_codes)])"
   ]
  },
  {
   "cell_type": "code",
   "execution_count": 68,
   "metadata": {},
   "outputs": [],
   "source": [
    "group_has_access_resource = []\n",
    "\n",
    "for resource in resource_codes:\n",
    "    group_has_access_resource.append([random.choice(group_codes),resource])\n"
   ]
  },
  {
   "cell_type": "markdown",
   "metadata": {},
   "source": [
    "## Insert the data into Neo4j"
   ]
  },
  {
   "cell_type": "code",
   "execution_count": 69,
   "metadata": {},
   "outputs": [],
   "source": [
    "from neo4j import GraphDatabase\n",
    "\n",
    "uri = \"bolt://localhost:7687\"\n",
    "driver = GraphDatabase.driver(uri, auth=(\"neo4j\", \"q1w2\"))"
   ]
  },
  {
   "cell_type": "markdown",
   "metadata": {},
   "source": [
    "### Importing the nodes into NEO4J"
   ]
  },
  {
   "cell_type": "code",
   "execution_count": 70,
   "metadata": {},
   "outputs": [],
   "source": [
    "with driver.session() as session:\n",
    "    tx = session.begin_transaction()\n",
    "    for resource in resource_codes:\n",
    "        result = tx.run(\"CREATE (r:Resource {code:'\"+resource+\"'}) RETURN r.name\")\n",
    "    tx.commit()"
   ]
  },
  {
   "cell_type": "code",
   "execution_count": 71,
   "metadata": {},
   "outputs": [],
   "source": [
    "with driver.session() as session:\n",
    "    tx = session.begin_transaction()\n",
    "    for group in group_codes:\n",
    "        result = tx.run(\"CREATE (r:Group {code:'\"+group+\"'}) RETURN r.name\")\n",
    "    tx.commit()"
   ]
  },
  {
   "cell_type": "code",
   "execution_count": null,
   "metadata": {},
   "outputs": [],
   "source": [
    "with driver.session() as session:\n",
    "    tx = session.begin_transaction()\n",
    "    for person in person_codes:\n",
    "        result = tx.run(\"CREATE (r:Person {code:'\"+person+\"'}) RETURN r.name\")\n",
    "    tx.commit()"
   ]
  },
  {
   "cell_type": "markdown",
   "metadata": {},
   "source": [
    "### Importing the edges into NEO4J"
   ]
  },
  {
   "cell_type": "code",
   "execution_count": null,
   "metadata": {},
   "outputs": [],
   "source": [
    "# Match, Macth Create Rel"
   ]
  },
  {
   "cell_type": "code",
   "execution_count": null,
   "metadata": {},
   "outputs": [],
   "source": []
  },
  {
   "cell_type": "code",
   "execution_count": null,
   "metadata": {},
   "outputs": [],
   "source": []
  }
 ],
 "metadata": {
  "kernelspec": {
   "display_name": "Python 3",
   "language": "python",
   "name": "python3"
  },
  "language_info": {
   "codemirror_mode": {
    "name": "ipython",
    "version": 3
   },
   "file_extension": ".py",
   "mimetype": "text/x-python",
   "name": "python",
   "nbconvert_exporter": "python",
   "pygments_lexer": "ipython3",
   "version": "3.7.3"
  }
 },
 "nbformat": 4,
 "nbformat_minor": 2
}
